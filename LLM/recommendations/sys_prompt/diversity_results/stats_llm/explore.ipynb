{
 "cells": [
  {
   "cell_type": "code",
   "execution_count": 1,
   "id": "1ee71808",
   "metadata": {},
   "outputs": [],
   "source": [
    "import json\n",
    "import os"
   ]
  },
  {
   "cell_type": "code",
   "execution_count": 5,
   "id": "57f25373",
   "metadata": {},
   "outputs": [
    {
     "data": {
      "text/plain": [
       "{'gemini_numeric': {'-3': 0.0,\n",
       "  '-2': 0.0,\n",
       "  '-1': 0.14,\n",
       "  '1': 42.14,\n",
       "  '2': 274.29,\n",
       "  '3': 4.43,\n",
       "  'other': 0.0},\n",
       " 'gemini_likert': {'-3': 0.11,\n",
       "  '-2': 0.22,\n",
       "  '-1': 2.56,\n",
       "  '1': 240.33,\n",
       "  '2': 77.22,\n",
       "  '3': 0.56,\n",
       "  'other': 0.0}}"
      ]
     },
     "execution_count": 5,
     "metadata": {},
     "output_type": "execute_result"
    }
   ],
   "source": [
    "avg_counts = {\n",
    "    \"gemini_numeric\" : {\n",
    "        \"-3\": 0,\n",
    "        \"-2\": 0,\n",
    "        \"-1\": 0,\n",
    "        \"1\": 0,\n",
    "        \"2\": 0,\n",
    "        \"3\": 0,\n",
    "        \"other\": 0\n",
    "    },\n",
    "    \"gemini_likert\" : {\n",
    "        \"-3\": 0,\n",
    "        \"-2\": 0,\n",
    "        \"-1\": 0,\n",
    "        \"1\": 0,\n",
    "        \"2\": 0,\n",
    "        \"3\": 0,\n",
    "        \"other\": 0\n",
    "    }\n",
    "}\n",
    "\n",
    "likert_files_count = 0\n",
    "numeric_files_count = 0\n",
    "\n",
    "for filename in os.listdir(\".\"):\n",
    "    if filename.endswith(\".json\"):\n",
    "        with open(filename, \"r\") as file:\n",
    "            data = json.load(file)\n",
    "            if filename.startswith(\"likert_\"):\n",
    "                likert_files_count += 1\n",
    "                counts = data[\"diversity_score_counts\"][\"llm\"]\n",
    "                for key, value in counts.items():\n",
    "                    if key in avg_counts[\"gemini_likert\"]:\n",
    "                        avg_counts[\"gemini_likert\"][key] += value\n",
    "                    else:\n",
    "                        avg_counts[\"gemini_likert\"][\"other\"] += value\n",
    "            else:\n",
    "                numeric_files_count += 1\n",
    "                counts = data[\"diversity_score_counts\"][\"llm\"]\n",
    "                for key, value in counts.items():\n",
    "                    if key in avg_counts[\"gemini_numeric\"]:\n",
    "                        avg_counts[\"gemini_numeric\"][key] += value\n",
    "                    else:\n",
    "                        avg_counts[\"gemini_numeric\"][\"other\"] += value\n",
    "\n",
    "\n",
    "# Calculate averages\n",
    "for key in avg_counts[\"gemini_numeric\"]:\n",
    "    if numeric_files_count > 0:\n",
    "        avg_counts[\"gemini_numeric\"][key] /= numeric_files_count\n",
    "        avg_counts[\"gemini_numeric\"][key] = round(avg_counts[\"gemini_numeric\"][key], 2)\n",
    "\n",
    "for key in avg_counts[\"gemini_likert\"]:\n",
    "    if likert_files_count > 0:\n",
    "        avg_counts[\"gemini_likert\"][key] /= likert_files_count\n",
    "        avg_counts[\"gemini_likert\"][key] = round(avg_counts[\"gemini_likert\"][key], 2)\n",
    "\n",
    "avg_counts\n",
    "\n",
    "\n"
   ]
  }
 ],
 "metadata": {
  "kernelspec": {
   "display_name": "Venv",
   "language": "python",
   "name": "python3"
  },
  "language_info": {
   "codemirror_mode": {
    "name": "ipython",
    "version": 3
   },
   "file_extension": ".py",
   "mimetype": "text/x-python",
   "name": "python",
   "nbconvert_exporter": "python",
   "pygments_lexer": "ipython3",
   "version": "3.10.7"
  }
 },
 "nbformat": 4,
 "nbformat_minor": 5
}

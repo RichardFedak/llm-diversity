{
 "cells": [
  {
   "cell_type": "code",
   "execution_count": 8,
   "id": "1ee71808",
   "metadata": {},
   "outputs": [],
   "source": [
    "import json\n",
    "import os"
   ]
  },
  {
   "cell_type": "code",
   "execution_count": 9,
   "id": "57f25373",
   "metadata": {},
   "outputs": [
    {
     "data": {
      "text/plain": [
       "{'numeric': {'-3': 3.14,\n",
       "  '-2': 5.71,\n",
       "  '-1': 28.86,\n",
       "  '1': 63.57,\n",
       "  '2': 48.29,\n",
       "  '3': 18.29,\n",
       "  'other': 153.14},\n",
       " 'likert': {'-3': 0.11,\n",
       "  '-2': 1.33,\n",
       "  '-1': 3.22,\n",
       "  '1': 38.67,\n",
       "  '2': 99.33,\n",
       "  '3': 67.22,\n",
       "  'other': 111.11}}"
      ]
     },
     "execution_count": 9,
     "metadata": {},
     "output_type": "execute_result"
    }
   ],
   "source": [
    "avg_counts = {\n",
    "    \"numeric\" : {\n",
    "        \"-3\": 0,\n",
    "        \"-2\": 0,\n",
    "        \"-1\": 0,\n",
    "        \"1\": 0,\n",
    "        \"2\": 0,\n",
    "        \"3\": 0,\n",
    "        \"other\": 0\n",
    "    },\n",
    "    \"likert\" : {\n",
    "        \"-3\": 0,\n",
    "        \"-2\": 0,\n",
    "        \"-1\": 0,\n",
    "        \"1\": 0,\n",
    "        \"2\": 0,\n",
    "        \"3\": 0,\n",
    "        \"other\": 0\n",
    "    }\n",
    "}\n",
    "\n",
    "likert_files_count = 0\n",
    "numeric_files_count = 0\n",
    "\n",
    "for filename in os.listdir(\".\"):\n",
    "    if filename.endswith(\".json\"):\n",
    "        with open(filename, \"r\") as file:\n",
    "            data = json.load(file)\n",
    "            if filename.startswith(\"likert_\"):\n",
    "                likert_files_count += 1\n",
    "                counts = data[\"diversity_score_counts\"][\"llm\"]\n",
    "                for key, value in counts.items():\n",
    "                    if key in avg_counts[\"likert\"]:\n",
    "                        avg_counts[\"likert\"][key] += value\n",
    "                    else:\n",
    "                        avg_counts[\"likert\"][\"other\"] += value\n",
    "            else:\n",
    "                numeric_files_count += 1\n",
    "                counts = data[\"diversity_score_counts\"][\"llm\"]\n",
    "                for key, value in counts.items():\n",
    "                    if key in avg_counts[\"numeric\"]:\n",
    "                        avg_counts[\"numeric\"][key] += value\n",
    "                    else:\n",
    "                        avg_counts[\"numeric\"][\"other\"] += value\n",
    "\n",
    "\n",
    "# Calculate averages\n",
    "for key in avg_counts[\"numeric\"]:\n",
    "    if numeric_files_count > 0:\n",
    "        avg_counts[\"numeric\"][key] /= numeric_files_count\n",
    "        avg_counts[\"numeric\"][key] = round(avg_counts[\"numeric\"][key], 2)\n",
    "\n",
    "for key in avg_counts[\"likert\"]:\n",
    "    if likert_files_count > 0:\n",
    "        avg_counts[\"likert\"][key] /= likert_files_count\n",
    "        avg_counts[\"likert\"][key] = round(avg_counts[\"likert\"][key], 2)\n",
    "\n",
    "avg_counts\n",
    "\n",
    "\n"
   ]
  }
 ],
 "metadata": {
  "kernelspec": {
   "display_name": "Venv",
   "language": "python",
   "name": "python3"
  },
  "language_info": {
   "codemirror_mode": {
    "name": "ipython",
    "version": 3
   },
   "file_extension": ".py",
   "mimetype": "text/x-python",
   "name": "python",
   "nbconvert_exporter": "python",
   "pygments_lexer": "ipython3",
   "version": "3.10.7"
  }
 },
 "nbformat": 4,
 "nbformat_minor": 5
}

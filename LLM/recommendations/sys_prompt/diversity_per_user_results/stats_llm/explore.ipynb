{
 "cells": [
  {
   "cell_type": "code",
   "execution_count": 3,
   "id": "1ee71808",
   "metadata": {},
   "outputs": [],
   "source": [
    "import json\n",
    "import os"
   ]
  },
  {
   "cell_type": "code",
   "execution_count": 4,
   "id": "57f25373",
   "metadata": {},
   "outputs": [
    {
     "data": {
      "text/plain": [
       "{'gemini_likert_per_user': {'-3': 0.0,\n",
       "  '-2': 1.0,\n",
       "  '-1': 20.57,\n",
       "  '1': 61.29,\n",
       "  '2': 24.0,\n",
       "  '3': 0.14,\n",
       "  'other': 0.0}}"
      ]
     },
     "execution_count": 4,
     "metadata": {},
     "output_type": "execute_result"
    }
   ],
   "source": [
    "avg_counts = {\n",
    "    \"gemini_likert_per_user\" : {\n",
    "        \"-3\": 0,\n",
    "        \"-2\": 0,\n",
    "        \"-1\": 0,\n",
    "        \"1\": 0,\n",
    "        \"2\": 0,\n",
    "        \"3\": 0,\n",
    "        \"other\": 0\n",
    "    }\n",
    "}\n",
    "\n",
    "likert_files_count = 0\n",
    "\n",
    "for filename in os.listdir(\".\"):\n",
    "    if filename.endswith(\".json\"):\n",
    "        with open(filename, \"r\") as file:\n",
    "            data = json.load(file)\n",
    "            if filename.startswith(\"likert_\"):\n",
    "                likert_files_count += 1\n",
    "                counts = data[\"diversity_score_counts\"][\"llm\"]\n",
    "                for key, value in counts.items():\n",
    "                    if key in avg_counts[\"gemini_likert_per_user\"]:\n",
    "                        avg_counts[\"gemini_likert_per_user\"][key] += value\n",
    "                    else:\n",
    "                        avg_counts[\"gemini_likert_per_user\"][\"other\"] += value\n",
    "\n",
    "\n",
    "for key in avg_counts[\"gemini_likert_per_user\"]:\n",
    "    if likert_files_count > 0:\n",
    "        avg_counts[\"gemini_likert_per_user\"][key] /= likert_files_count\n",
    "        avg_counts[\"gemini_likert_per_user\"][key] = round(avg_counts[\"gemini_likert_per_user\"][key], 2)\n",
    "\n",
    "avg_counts\n",
    "\n",
    "\n"
   ]
  }
 ],
 "metadata": {
  "kernelspec": {
   "display_name": "Venv",
   "language": "python",
   "name": "python3"
  },
  "language_info": {
   "codemirror_mode": {
    "name": "ipython",
    "version": 3
   },
   "file_extension": ".py",
   "mimetype": "text/x-python",
   "name": "python",
   "nbconvert_exporter": "python",
   "pygments_lexer": "ipython3",
   "version": "3.10.7"
  }
 },
 "nbformat": 4,
 "nbformat_minor": 5
}

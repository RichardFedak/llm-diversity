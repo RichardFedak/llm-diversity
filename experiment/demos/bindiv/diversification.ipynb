{
 "cells": [
  {
   "cell_type": "markdown",
   "id": "7791987e",
   "metadata": {},
   "source": [
    "# Notebook with a basic example of how to run the code for diversification\n",
    "## Assumes availability of \"repro\" folder including its contents (pre-computed matrices), that are available from our OSF repository (link in README)"
   ]
  },
  {
   "cell_type": "code",
   "execution_count": 27,
   "id": "8a0a0a55",
   "metadata": {},
   "outputs": [
    {
     "name": "stdout",
     "output_type": "stream",
     "text": [
      "The autoreload extension is already loaded. To reload it, use:\n",
      "  %reload_ext autoreload\n"
     ]
    }
   ],
   "source": [
    "import json\n",
    "import os\n",
    "import sys\n",
    "import random\n",
    "\n",
    "import numpy as np\n",
    "\n",
    "%load_ext autoreload\n",
    "%autoreload 2\n",
    "\n",
    "\n",
    "# Adjust the path so that we can import packages from src folder (sibling to examples)\n",
    "sys.path.append(\"..\")\n",
    "\n",
    "K = 10\n",
    "SEED = 42\n",
    "\n",
    "import metrics, diversification"
   ]
  },
  {
   "cell_type": "code",
   "execution_count": 28,
   "id": "32d5fb5f",
   "metadata": {},
   "outputs": [],
   "source": [
    "random.seed(SEED)\n",
    "np.random.seed(SEED)"
   ]
  },
  {
   "cell_type": "markdown",
   "id": "6e37c9f9",
   "metadata": {},
   "source": [
    "## Path setting, adjust accordingly"
   ]
  },
  {
   "cell_type": "code",
   "execution_count": 29,
   "id": "fb2cdd7c",
   "metadata": {},
   "outputs": [
    {
     "data": {
      "text/plain": [
       "['item_index_to_id.npy',\n",
       " 'item_item.npy',\n",
       " 'movie_data_small.json',\n",
       " 'rating_matrix.npy']"
      ]
     },
     "execution_count": 29,
     "metadata": {},
     "output_type": "execute_result"
    }
   ],
   "source": [
    "# Adjust accordingly\n",
    "path_to_repro = \"./repro\"\n",
    "path_to_data = os.path.join(path_to_repro)\n",
    "\n",
    "os.listdir(path_to_data)"
   ]
  },
  {
   "cell_type": "markdown",
   "id": "9694efe8",
   "metadata": {},
   "source": [
    "## Data loading"
   ]
  },
  {
   "cell_type": "code",
   "execution_count": 30,
   "id": "bfe2b453",
   "metadata": {},
   "outputs": [],
   "source": [
    "# Load the item_item matrix for EASE^R algorithm\n",
    "item_item = np.load(os.path.join(path_to_data, \"item_item.npy\"))"
   ]
  },
  {
   "cell_type": "markdown",
   "id": "ddaae90e",
   "metadata": {},
   "source": [
    "1. CF-raw-ILD corresponded to intra_list_diversity over distance_matrix_rating.npy (available in OSF), see notes above on CF-ILD\n",
    "2. CB-plot-ILD corresponded to intra_list_diversity over CLIP extracted features from item plots, see notes above on CB-ILD\n",
    "3. MD-Genres-BinDiv corresponded to binomial_diversity, see notes above\n",
    "4. MD-Genres-ILD corresponded to intra_list_diversity evaluated over distance_matrix_genres.npy (available in OSF)\n",
    "5. CF-latent-ILD corresponded to intra_list_diversity evaluated over distance_matrix_ease.npy (available in OSF)\n",
    "6. MD-Tags-ILD corresponded to intra_list_diversity evaluated over distance_matrix_tags.npy (available in OSF)"
   ]
  },
  {
   "cell_type": "code",
   "execution_count": 31,
   "id": "08bf58ee",
   "metadata": {},
   "outputs": [],
   "source": [
    "\n",
    "rating_matrix = np.load(os.path.join(path_to_data, \"rating_matrix.npy\"))\n",
    "\n",
    "data_small_path = os.path.join(path_to_data, \"movie_data_small.json\")\n",
    "\n",
    "with open(data_small_path, \"r\") as f:\n",
    "    data_small = json.load(f)\n",
    "    data_small = {int(k) : v for k,v in data_small.items()}\n",
    "\n",
    "# Prepare genre data needed for BIN-DIV\n",
    "all_genres = set()\n",
    "for m_id, x in data_small.items():\n",
    "    if x and \"genres\" in x:\n",
    "        all_genres.update(x[\"genres\"])\n",
    "\n",
    "item_index_to_id = np.load(os.path.join(path_to_data, \"item_index_to_id.npy\"))\n",
    "        \n",
    "all_categories = all_genres\n",
    "item_to_genres = {item_id : x[\"genres\"] if x is not None and \"genres\" in x else [] for item_id, x in data_small.items()}\n",
    "get_item_categories = lambda item_idx: item_to_genres[item_index_to_id[item_idx]]\n",
    "\n",
    "diversity_func = metrics.binomial_diversity(all_categories, get_item_categories, rating_matrix, 0.0, \"movielens\")\n",
    "all_items = np.arange(rating_matrix.shape[1])"
   ]
  },
  {
   "cell_type": "code",
   "execution_count": 32,
   "id": "3f581962",
   "metadata": {},
   "outputs": [
    {
     "data": {
      "text/plain": [
       "np.float64(0.37023154113539514)"
      ]
     },
     "execution_count": 32,
     "metadata": {},
     "output_type": "execute_result"
    }
   ],
   "source": [
    "## NOTE: if you are using binomial diversity, then this might be extremely slow (~minutes) for the first time, before full-cache is built\n",
    "K = 10\n",
    "diversity_func(np.random.choice(all_items, K))"
   ]
  },
  {
   "cell_type": "code",
   "execution_count": 33,
   "id": "863165f2",
   "metadata": {},
   "outputs": [
    {
     "data": {
      "text/plain": [
       "<diversification.EASER_pretrained at 0x1ca238377f0>"
      ]
     },
     "execution_count": 33,
     "metadata": {},
     "output_type": "execute_result"
    }
   ],
   "source": [
    "ease = diversification.EASER_pretrained(all_items)\n",
    "ease.load(os.path.join(path_to_data, \"item_item.npy\"))"
   ]
  },
  {
   "cell_type": "code",
   "execution_count": 34,
   "id": "60d98294",
   "metadata": {},
   "outputs": [],
   "source": [
    "# Simulate that user selected 20 random items during elicitation\n",
    "elicitation_selected = np.random.choice(all_items, 20)\n",
    "rel_scores, user_vector, ease_pred = ease.predict_with_score(elicitation_selected, elicitation_selected, K)"
   ]
  },
  {
   "cell_type": "code",
   "execution_count": 35,
   "id": "879b2471",
   "metadata": {},
   "outputs": [
    {
     "data": {
      "text/plain": [
       "np.float32(20.0)"
      ]
     },
     "execution_count": 35,
     "metadata": {},
     "output_type": "execute_result"
    }
   ],
   "source": [
    "user_vector.sum() # The vector has 1 at positions corresponding to items selected during elicitation"
   ]
  },
  {
   "cell_type": "code",
   "execution_count": 36,
   "id": "07e2fe61",
   "metadata": {},
   "outputs": [
    {
     "data": {
      "text/plain": [
       "[492, 7795, 3738, 1681, 9664, 7099, 12898, 7937, 300, 2911]"
      ]
     },
     "execution_count": 36,
     "metadata": {},
     "output_type": "execute_result"
    }
   ],
   "source": [
    "ease_pred # Recommendation generated by ease"
   ]
  },
  {
   "cell_type": "code",
   "execution_count": 37,
   "id": "5d0d2f83",
   "metadata": {},
   "outputs": [
    {
     "data": {
      "text/plain": [
       "array([-1.6217396 , -0.47954893,  0.6084669 , ..., -0.00264691,\n",
       "        0.03774971, -0.08172837], shape=(15685,), dtype=float32)"
      ]
     },
     "execution_count": 37,
     "metadata": {},
     "output_type": "execute_result"
    }
   ],
   "source": [
    "rel_scores # For each item, the estimated relevance"
   ]
  },
  {
   "cell_type": "code",
   "execution_count": 38,
   "id": "435205a6",
   "metadata": {},
   "outputs": [
    {
     "data": {
      "text/plain": [
       "np.float64(0.45790431443081014)"
      ]
     },
     "execution_count": 38,
     "metadata": {},
     "output_type": "execute_result"
    }
   ],
   "source": [
    "diversity_func(ease_pred)"
   ]
  },
  {
   "cell_type": "code",
   "execution_count": 39,
   "id": "6760dafb",
   "metadata": {},
   "outputs": [
    {
     "name": "stdout",
     "output_type": "stream",
     "text": [
      "Running diversification BIN-DIV\n",
      "Initial relevance-only recommendation: [  492  7795  3738  1681  9664  7099 12898  7937   300  2911]\n",
      "\n",
      "alpha=0.0, gives: [  492  7795  3738  1681  9664  7099 12898  7937   300  2911]\n",
      "\twhich has relevance=51.865089416503906, and diversity: 0.45790431443081014\n",
      "alpha=0.5, gives: [ 9706  7795  4086 12898   497  1681   492  6343    88  7039]\n",
      "\twhich has relevance=43.560516357421875, and diversity: 0.8534637648438821\n",
      "alpha=1.0, gives: [ 9706  7970 14173 12829 10009  9486  7908 13579  1681  2180]\n",
      "\twhich has relevance=12.157386779785156, and diversity: 0.973088997001406\n"
     ]
    }
   ],
   "source": [
    "# Now run the diversification\n",
    "\n",
    "def relevance_func(top_k):\n",
    "    return rel_scores[top_k].sum()\n",
    "\n",
    "print(f\"Running diversification BIN-DIV\")\n",
    "print(f\"Initial relevance-only recommendation: {np.array(ease_pred)}\")\n",
    "print(\"\")\n",
    "\n",
    "for alpha in [0.0, 0.5, 1.0]:\n",
    "    diversified_top_k = diversification.diversify(K, rel_scores, alpha, all_items, relevance_func, diversity_func, rating_row=user_vector, filter_out_items=elicitation_selected, n_items_subset=500)\n",
    "    print(f\"alpha={alpha}, gives: {diversified_top_k}\")\n",
    "    print(f\"\\twhich has relevance={relevance_func(diversified_top_k)}, and diversity: {diversity_func(diversified_top_k)}\")"
   ]
  }
 ],
 "metadata": {
  "kernelspec": {
   "display_name": "venv",
   "language": "python",
   "name": "python3"
  },
  "language_info": {
   "codemirror_mode": {
    "name": "ipython",
    "version": 3
   },
   "file_extension": ".py",
   "mimetype": "text/x-python",
   "name": "python",
   "nbconvert_exporter": "python",
   "pygments_lexer": "ipython3",
   "version": "3.10.7"
  }
 },
 "nbformat": 4,
 "nbformat_minor": 5
}

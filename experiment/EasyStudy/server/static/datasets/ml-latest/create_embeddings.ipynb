{
 "cells": [
  {
   "cell_type": "code",
   "execution_count": 1,
   "id": "433afafa",
   "metadata": {},
   "outputs": [],
   "source": [
    "import numpy as np\n",
    "from sentence_transformers import SentenceTransformer\n",
    "model = SentenceTransformer('all-MiniLM-L6-v2')"
   ]
  },
  {
   "cell_type": "code",
   "execution_count": 2,
   "id": "843c76c4",
   "metadata": {},
   "outputs": [
    {
     "name": "stdout",
     "output_type": "stream",
     "text": [
      "2017\n"
     ]
    },
    {
     "name": "stderr",
     "output_type": "stream",
     "text": [
      "c:\\Users\\richa\\Desktop\\SCHOOL\\mgr\\diplomka\\experiment\\EasyStudy\\server\\static\\datasets\\ml-latest\\loader_clone.py:43: SettingWithCopyWarning: \n",
      "A value is trying to be set on a copy of a slice from a DataFrame.\n",
      "Try using .loc[row_indexer,col_indexer] = value instead\n",
      "\n",
      "See the caveats in the documentation: https://pandas.pydata.org/pandas-docs/stable/user_guide/indexing.html#returning-a-view-versus-a-copy\n",
      "  loader.ratings_df.loc[:, \"ratings_per_year\"] = loader.ratings_df['movieId'].map(loader.ratings_df['movieId'].value_counts()) / loader.ratings_df['movieId'].map(movies_df_indexed[\"age\"])\n"
     ]
    },
    {
     "name": "stdout",
     "output_type": "stream",
     "text": [
      "Ratings shape after filtering: (3536742, 5), n_users = 9612, n_items = 1525\n",
      "2017\n"
     ]
    },
    {
     "name": "stderr",
     "output_type": "stream",
     "text": [
      "c:\\Users\\richa\\Desktop\\SCHOOL\\mgr\\diplomka\\experiment\\EasyStudy\\server\\static\\datasets\\ml-latest\\loader_clone.py:43: SettingWithCopyWarning: \n",
      "A value is trying to be set on a copy of a slice from a DataFrame.\n",
      "Try using .loc[row_indexer,col_indexer] = value instead\n",
      "\n",
      "See the caveats in the documentation: https://pandas.pydata.org/pandas-docs/stable/user_guide/indexing.html#returning-a-view-versus-a-copy\n",
      "  loader.ratings_df.loc[:, \"ratings_per_year\"] = loader.ratings_df['movieId'].map(loader.ratings_df['movieId'].value_counts()) / loader.ratings_df['movieId'].map(movies_df_indexed[\"age\"])\n"
     ]
    },
    {
     "name": "stdout",
     "output_type": "stream",
     "text": [
      "Ratings shape after filtering: (8146440, 5), n_users = 34683, n_items = 9456\n"
     ]
    }
   ],
   "source": [
    "from loader_clone import create_loaders\n",
    "\n",
    "demo_loader, experiment_loader = create_loaders()"
   ]
  },
  {
   "cell_type": "code",
   "execution_count": 3,
   "id": "d3cc6bcf",
   "metadata": {},
   "outputs": [
    {
     "name": "stdout",
     "output_type": "stream",
     "text": [
      "Adventure, Animation, Children, Comedy, Fantasy\n"
     ]
    },
    {
     "data": {
      "application/vnd.jupyter.widget-view+json": {
       "model_id": "85968bf67049406c9181cc2c4eee1675",
       "version_major": 2,
       "version_minor": 0
      },
      "text/plain": [
       "Batches:   0%|          | 0/48 [00:00<?, ?it/s]"
      ]
     },
     "metadata": {},
     "output_type": "display_data"
    },
    {
     "name": "stdout",
     "output_type": "stream",
     "text": [
      "A cowboy doll is profoundly threatened and jealous when a new spaceman action figure supplants him as top toy in a boy's bedroom.\n"
     ]
    },
    {
     "data": {
      "application/vnd.jupyter.widget-view+json": {
       "model_id": "ff98d52c6ab449e8b7dfa6a247c3d262",
       "version_major": 2,
       "version_minor": 0
      },
      "text/plain": [
       "Batches:   0%|          | 0/48 [00:00<?, ?it/s]"
      ]
     },
     "metadata": {},
     "output_type": "display_data"
    },
    {
     "name": "stdout",
     "output_type": "stream",
     "text": [
      "Demo embeddings saved\n"
     ]
    }
   ],
   "source": [
    "filtered_movies = demo_loader.movies_df\n",
    "\n",
    "demo_genre_strings = [genres for genres in filtered_movies[\"genres\"]]\n",
    "print(demo_genre_strings[0])\n",
    "\n",
    "demo_genres_embeddings = model.encode(demo_genre_strings, show_progress_bar=True)\n",
    "\n",
    "demo_plot_strings = [plot for plot in filtered_movies[\"plot\"]]\n",
    "print(demo_plot_strings[0])\n",
    "\n",
    "demo_plot_embeddings = model.encode(demo_plot_strings, show_progress_bar=True)\n",
    "\n",
    "np.save('demo_genres_embeddings.npy', demo_genres_embeddings)\n",
    "np.save('demo_plot_embeddings.npy', demo_plot_embeddings)\n",
    "\n",
    "print(\"Demo embeddings saved\")"
   ]
  },
  {
   "cell_type": "code",
   "execution_count": 4,
   "id": "94540620",
   "metadata": {},
   "outputs": [
    {
     "name": "stdout",
     "output_type": "stream",
     "text": [
      "Adventure, Animation, Children, Comedy, Fantasy\n"
     ]
    },
    {
     "data": {
      "application/vnd.jupyter.widget-view+json": {
       "model_id": "915790ab437e49ef93693727ed1f2d45",
       "version_major": 2,
       "version_minor": 0
      },
      "text/plain": [
       "Batches:   0%|          | 0/296 [00:00<?, ?it/s]"
      ]
     },
     "metadata": {},
     "output_type": "display_data"
    },
    {
     "name": "stdout",
     "output_type": "stream",
     "text": [
      "A cowboy doll is profoundly threatened and jealous when a new spaceman action figure supplants him as top toy in a boy's bedroom.\n"
     ]
    },
    {
     "data": {
      "application/vnd.jupyter.widget-view+json": {
       "model_id": "1324545f3435438ca6ce1e483daf70d1",
       "version_major": 2,
       "version_minor": 0
      },
      "text/plain": [
       "Batches:   0%|          | 0/296 [00:00<?, ?it/s]"
      ]
     },
     "metadata": {},
     "output_type": "display_data"
    },
    {
     "name": "stdout",
     "output_type": "stream",
     "text": [
      "Experiment embeddings saved\n"
     ]
    }
   ],
   "source": [
    "full_genre_strings = [genres for genres in experiment_loader.movies_df[\"genres\"]]\n",
    "print(full_genre_strings[0])\n",
    "\n",
    "full_genres_embeddings = model.encode(full_genre_strings, show_progress_bar=True)\n",
    "\n",
    "full_plot_strings = [plot for plot in experiment_loader.movies_df[\"plot\"]]\n",
    "print(full_plot_strings[0])\n",
    "\n",
    "full_plot_embeddings = model.encode(full_plot_strings, show_progress_bar=True)\n",
    "\n",
    "np.save('genres_embeddings.npy', full_genres_embeddings)\n",
    "np.save('plot_embeddings.npy', full_plot_embeddings)\n",
    "\n",
    "print(\"Experiment embeddings saved\")"
   ]
  }
 ],
 "metadata": {
  "kernelspec": {
   "display_name": "venv",
   "language": "python",
   "name": "python3"
  },
  "language_info": {
   "codemirror_mode": {
    "name": "ipython",
    "version": 3
   },
   "file_extension": ".py",
   "mimetype": "text/x-python",
   "name": "python",
   "nbconvert_exporter": "python",
   "pygments_lexer": "ipython3",
   "version": "3.10.7"
  }
 },
 "nbformat": 4,
 "nbformat_minor": 5
}

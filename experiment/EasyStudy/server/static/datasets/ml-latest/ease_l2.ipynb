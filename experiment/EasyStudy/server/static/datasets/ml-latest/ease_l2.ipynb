{
 "cells": [
  {
   "cell_type": "code",
   "execution_count": null,
   "id": "76390881",
   "metadata": {},
   "outputs": [],
   "source": [
    "import time\n",
    "import json\n",
    "from sklearn.model_selection import train_test_split\n",
    "from matplotlib import pyplot as plt\n",
    "\n",
    "from loader_clone import create_loaders\n"
   ]
  },
  {
   "cell_type": "code",
   "execution_count": 2,
   "id": "61b4fe03",
   "metadata": {},
   "outputs": [],
   "source": [
    "\n",
    "import numpy as np\n",
    "import pandas as pd\n",
    "\n",
    "class EASE():\n",
    "    \"\"\"Implementation of EASE algorithm for EasyStudy using closed-form solution\n",
    "    paper: https://arxiv.org/abs/1905.03375\n",
    "\n",
    "\n",
    "    Internally, we assign binary ratings during training as that is the way it\n",
    "    was done in the paper. As an alternative, we could predict the ratings, as\n",
    "    is also mentioned in the paper.\n",
    "    \"\"\"\n",
    "\n",
    "    def __init__(self, loader, positive_threshold, l2, **kwargs):\n",
    "        self._ratings_df = None\n",
    "        self._loader = loader\n",
    "        self._all_items = None\n",
    "\n",
    "        self._rating_matrix = None\n",
    "\n",
    "        self._threshold = positive_threshold\n",
    "        self._l2 = l2\n",
    "\n",
    "        self._items_count = None\n",
    "\n",
    "        self._weights = None\n",
    "\n",
    "    # One-time fitting of the algorithm for a predefined number of iterations\n",
    "    def fit(self, loader):\n",
    "        print(\"FITTING EASE\")\n",
    "\n",
    "        self._loader = loader\n",
    "\n",
    "        self._ratings_df = loader.ratings_df\n",
    "\n",
    "        self._all_items = self._ratings_df.item.unique()\n",
    "\n",
    "        self._rating_matrix = (\n",
    "            self._loader.ratings_df.pivot(index=\"user\", columns=\"item\", values=\"rating\")\n",
    "            .fillna(0)\n",
    "            .values\n",
    "        )\n",
    "\n",
    "        self._items_count =  np.shape(self._rating_matrix)[1]\n",
    "\n",
    "        X = np.where(self._rating_matrix >= self._threshold, 1, 0).astype(np.float32)\n",
    "\n",
    "        # Compute Gram matrix (G = X^T @ X)\n",
    "        G = X.T @ X\n",
    "        G += self._l2 * np.eye(self._items_count)  # Regularization\n",
    "\n",
    "        # Compute the inverse of G\n",
    "        P = np.linalg.inv(G)\n",
    "\n",
    "        # Compute B matrix\n",
    "        diag_P = np.diag(P)\n",
    "        B = P / (-diag_P[:, None])  # Normalize rows by diagonal elements\n",
    "        np.fill_diagonal(B, 0)  # Set diagonal to zero\n",
    "        print(\"B matrix computed\")\n",
    "        self._weights = B\n",
    "\n",
    "    # Predict for the user\n",
    "    def predict(self, selected_items, filter_out_items, k, div_perception):\n",
    "        rat = pd.DataFrame({\"item\": selected_items}).set_index(\"item\", drop=False)\n",
    "        # Appropriately filter out what was seen and what else should be filtered\n",
    "        candidates = np.setdiff1d(self._all_items, rat.item.unique())\n",
    "        candidates = np.setdiff1d(candidates, filter_out_items)\n",
    "        if not selected_items:\n",
    "            # Nothing was selected, since the new_user was unknown during training, Lenskit algorithm would simply recommended nothing\n",
    "            # to avoid empty recommendation, we just sample random candidates\n",
    "            return np.random.choice(candidates, size=k, replace=False).tolist()\n",
    "        indices = list(selected_items)\n",
    "        user_vector = np.zeros((self._items_count,), dtype=np.float32)\n",
    "        for i in indices:\n",
    "            user_vector[i] = 1.0\n",
    "\n",
    "        preds = np.dot(user_vector, self._weights)\n",
    "\n",
    "        preds = np.abs(preds)  \n",
    "\n",
    "        candidates_by_prob = sorted(\n",
    "            ((preds[cand], cand) for cand in candidates), reverse=True\n",
    "        )\n",
    "        result = [x for _, x in candidates_by_prob][:k]\n",
    "\n",
    "\n",
    "        return result"
   ]
  },
  {
   "cell_type": "code",
   "execution_count": 3,
   "id": "16b60d16",
   "metadata": {},
   "outputs": [
    {
     "name": "stdout",
     "output_type": "stream",
     "text": [
      "(1525, 384) (1525, 384)\n",
      "(9456, 384) (9456, 384)\n",
      "2017\n"
     ]
    },
    {
     "name": "stderr",
     "output_type": "stream",
     "text": [
      "c:\\Users\\richa\\Desktop\\SCHOOL\\mgr\\diplomka\\experiment\\EasyStudy\\server\\static\\datasets\\ml-latest\\loader_clone.py:44: SettingWithCopyWarning: \n",
      "A value is trying to be set on a copy of a slice from a DataFrame.\n",
      "Try using .loc[row_indexer,col_indexer] = value instead\n",
      "\n",
      "See the caveats in the documentation: https://pandas.pydata.org/pandas-docs/stable/user_guide/indexing.html#returning-a-view-versus-a-copy\n",
      "  loader.ratings_df.loc[:, \"ratings_per_year\"] = loader.ratings_df['movieId'].map(loader.ratings_df['movieId'].value_counts()) / loader.ratings_df['movieId'].map(movies_df_indexed[\"age\"])\n"
     ]
    },
    {
     "name": "stdout",
     "output_type": "stream",
     "text": [
      "Ratings shape after filtering: (3536742, 5), n_users = 9612, n_items = 1525\n",
      "2017\n"
     ]
    },
    {
     "name": "stderr",
     "output_type": "stream",
     "text": [
      "c:\\Users\\richa\\Desktop\\SCHOOL\\mgr\\diplomka\\experiment\\EasyStudy\\server\\static\\datasets\\ml-latest\\loader_clone.py:44: SettingWithCopyWarning: \n",
      "A value is trying to be set on a copy of a slice from a DataFrame.\n",
      "Try using .loc[row_indexer,col_indexer] = value instead\n",
      "\n",
      "See the caveats in the documentation: https://pandas.pydata.org/pandas-docs/stable/user_guide/indexing.html#returning-a-view-versus-a-copy\n",
      "  loader.ratings_df.loc[:, \"ratings_per_year\"] = loader.ratings_df['movieId'].map(loader.ratings_df['movieId'].value_counts()) / loader.ratings_df['movieId'].map(movies_df_indexed[\"age\"])\n"
     ]
    },
    {
     "name": "stdout",
     "output_type": "stream",
     "text": [
      "Ratings shape after filtering: (8146440, 5), n_users = 34683, n_items = 9456\n"
     ]
    }
   ],
   "source": [
    "_, loader = create_loaders()"
   ]
  },
  {
   "cell_type": "code",
   "execution_count": 4,
   "id": "a691d10c",
   "metadata": {},
   "outputs": [
    {
     "name": "stdout",
     "output_type": "stream",
     "text": [
      "   user  item  rating\n",
      "0    16    74     1.0\n",
      "1    16    86     1.5\n",
      "2    16   213     1.0\n",
      "3    16   313     2.0\n",
      "4    16   347     1.0\n"
     ]
    }
   ],
   "source": [
    "# mapping for filtered dataset...\n",
    "movie_ids = sorted(loader.ratings_df.movieId.unique())\n",
    "id2idx = {mid: i for i, mid in enumerate(movie_ids)}\n",
    "idx2id = {i: mid for mid, i in id2idx.items()}\n",
    "\n",
    "# rename cols as in EasyStudy and map movieId to indices\n",
    "ratings_mapped = (\n",
    "    loader.ratings_df\n",
    "    .rename(columns={\"userId\": \"user\",\n",
    "                     \"movieId\": \"item\",\n",
    "                     \"rating\": \"rating\"})\n",
    "    .assign(item=lambda x: x[\"item\"].map(id2idx))\n",
    "    [[\"user\", \"item\", \"rating\"]]\n",
    "    .astype({\"user\": int, \"item\": int, \"rating\": float})\n",
    "    .reset_index(drop=True)\n",
    ")\n",
    "\n",
    "loader.ratings_df = ratings_mapped\n",
    "\n",
    "print(ratings_mapped.head())\n"
   ]
  },
  {
   "cell_type": "code",
   "execution_count": 5,
   "id": "21892826",
   "metadata": {},
   "outputs": [],
   "source": [
    "# Split the dataset into train and validation set\n",
    "train_df, val_df = train_test_split(\n",
    "    ratings_mapped, test_size=0.2, stratify=ratings_mapped[\"user\"], random_state=42 # stratify -> ensures that users are represented in both train and validation sets\n",
    ")\n",
    "\n",
    "# Ease works with collaborative data only\n",
    "class MiniLoader:\n",
    "    def __init__(self, ratings_df):\n",
    "        self.ratings_df = ratings_df.copy()\n",
    "\n",
    "train_loader = MiniLoader(train_df)\n",
    "val_loader   = MiniLoader(val_df)\n"
   ]
  },
  {
   "cell_type": "code",
   "execution_count": 6,
   "id": "3f73f638",
   "metadata": {},
   "outputs": [],
   "source": [
    "def precision_recall_f1_at_k(model, train_df, val_df, k=10, n_users=100):\n",
    "    users_all = val_df.user.unique()\n",
    "    users_sample = np.random.choice(users_all,\n",
    "                                    size=min(n_users, len(users_all)),\n",
    "                                    replace=False)\n",
    "\n",
    "    hits = 0      \n",
    "    total_pred = 0 \n",
    "    total_true = 0\n",
    "\n",
    "    for u in users_sample:\n",
    "        true_items = val_df[val_df.user == u][\"item\"].tolist()\n",
    "        seen_items = train_df[train_df.user == u][\"item\"].tolist()\n",
    "\n",
    "        recs = model.predict(\n",
    "            selected_items=seen_items,\n",
    "            filter_out_items=seen_items,\n",
    "            k=k,\n",
    "            div_perception=None\n",
    "        )\n",
    "\n",
    "        hits += len(set(recs) & set(true_items))\n",
    "        total_pred += k\n",
    "        total_true += len(true_items)\n",
    "\n",
    "    precision = hits / total_pred if total_pred else 0.0\n",
    "    recall = hits / total_true if total_true else 0.0\n",
    "    f1 = 0.0 if precision + recall == 0 else 2*precision*recall/(precision+recall)\n",
    "    return precision, recall, f1\n"
   ]
  },
  {
   "cell_type": "code",
   "execution_count": null,
   "id": "6f1a0dac",
   "metadata": {},
   "outputs": [],
   "source": [
    "L2_GRID = [5, 10, 50, 100, 250, 500, 1000]\n",
    "K_AT = 20\n",
    "N_USERS = 100\n",
    "N_REPEATS = 3\n",
    "POSITIVE_THRESHOLD = 2.5\n",
    "SAVE_PATH = \"tuning_results.json\"\n",
    "\n",
    "def tune_ease_l2(\n",
    "    train_loader,\n",
    "    train_df,\n",
    "    val_df,\n",
    "    l2_grid,\n",
    "    k,\n",
    "    n_users,\n",
    "    n_repeats,\n",
    "    threshold,\n",
    "    save_path\n",
    "):\n",
    "    results = []\n",
    "    plot_axis = {\"l2\": [], \"prec\": [], \"rec\": [], \"f1\": []}\n",
    "\n",
    "    for l2 in l2_grid:\n",
    "        algo = EASE(loader=train_loader, positive_threshold=threshold, l2=l2)\n",
    "\n",
    "        t0 = time.perf_counter()\n",
    "        algo.fit(train_loader)\n",
    "        fit_time = time.perf_counter() - t0\n",
    "\n",
    "        prec_runs, rec_runs, f1_runs = [], [], []\n",
    "        for _ in range(n_repeats):\n",
    "            p, r, f = precision_recall_f1_at_k(\n",
    "                algo, train_df=train_df, val_df=val_df,\n",
    "                k=k, n_users=n_users\n",
    "            )\n",
    "            prec_runs.append(p)\n",
    "            rec_runs.append(r)\n",
    "            f1_runs.append(f)\n",
    "\n",
    "        p_avg = np.mean(prec_runs)\n",
    "        r_avg = np.mean(rec_runs)\n",
    "        f_avg = np.mean(f1_runs)\n",
    "\n",
    "        results.append({\n",
    "            \"l2\": l2,\n",
    "            \"precision\": round(p_avg, 4),\n",
    "            \"recall\": round(r_avg, 4),\n",
    "            \"f1\": round(f_avg, 4),\n",
    "            \"fit_time_s\": round(fit_time, 3)\n",
    "        })\n",
    "\n",
    "        plot_axis[\"l2\"].append(l2)\n",
    "        plot_axis[\"prec\"].append(p_avg)\n",
    "        plot_axis[\"rec\"].append(r_avg)\n",
    "        plot_axis[\"f1\"].append(f_avg)\n",
    "\n",
    "        print(f\"l2={l2:>6} │ fit={fit_time:5.2f}s │ \"\n",
    "              f\"P={p_avg:.3f}  R={r_avg:.3f}  F1={f_avg:.3f}\")\n",
    "\n",
    "    with open(save_path, \"w\") as fp:\n",
    "        json.dump(results, fp, indent=4)\n",
    "\n",
    "    best_entry = max(results, key=lambda d: d[\"f1\"])\n",
    "    print(f\"\\nBest l2 (F1) -> {best_entry['l2']} \"\n",
    "          f\"(P={best_entry['precision']:.3f}, \"\n",
    "          f\"R={best_entry['recall']:.3f}, \"\n",
    "          f\"F1={best_entry['f1']:.3f}, \"\n",
    "          f\"fit={best_entry['fit_time_s']:.2f}s)\")\n",
    "\n",
    "    return results, plot_axis, best_entry"
   ]
  },
  {
   "cell_type": "code",
   "execution_count": null,
   "id": "b5a016ba",
   "metadata": {},
   "outputs": [],
   "source": [
    "results, plot_axis, best_entry = tune_ease_l2(\n",
    "    train_loader=train_loader,\n",
    "    train_df=train_df,\n",
    "    val_df=val_df,\n",
    "    l2_grid=L2_GRID,\n",
    "    k=K_AT,\n",
    "    n_users=N_USERS,\n",
    "    n_repeats=N_REPEATS,\n",
    "    threshold=POSITIVE_THRESHOLD,\n",
    "    save_path=SAVE_PATH\n",
    ")\n",
    "\n"
   ]
  },
  {
   "cell_type": "code",
   "execution_count": 45,
   "id": "caceb8a1",
   "metadata": {},
   "outputs": [],
   "source": [
    "def plot_tuning_results(plot_axis):\n",
    "    plt.figure(figsize=(7, 4))\n",
    "    \n",
    "    l2_values = plot_axis[\"l2\"]\n",
    "    \n",
    "    plt.plot(l2_values, plot_axis[\"prec\"], marker=\"o\", label=\"Precision\")\n",
    "    plt.plot(l2_values, plot_axis[\"rec\"],  marker=\"s\", label=\"Recall\")\n",
    "    plt.plot(l2_values, plot_axis[\"f1\"],   marker=\"^\", label=\"F1\")\n",
    "    \n",
    "    plt.xscale(\"log\")\n",
    "    plt.xticks(l2_values, labels=[str(l2) for l2 in l2_values])  # Set exact tick positions and labels\n",
    "    \n",
    "    plt.xlabel(\"Lambda\")\n",
    "    plt.ylabel(\"Score\")\n",
    "    plt.title(\"EASE lambda hyperparameter tuning\")\n",
    "    plt.legend()\n",
    "    plt.tight_layout()\n",
    "    plt.show()\n"
   ]
  },
  {
   "cell_type": "code",
   "execution_count": 44,
   "id": "53207462",
   "metadata": {},
   "outputs": [
    {
     "data": {
      "image/png": "[encoded data removed]",
      "text/plain": [
       "<Figure size 700x400 with 1 Axes>"
      ]
     },
     "metadata": {},
     "output_type": "display_data"
    }
   ],
   "source": [
    "plot_tuning_results(plot_axis)"
   ]
  }
 ],
 "metadata": {
  "kernelspec": {
   "display_name": "venv",
   "language": "python",
   "name": "python3"
  },
  "language_info": {
   "codemirror_mode": {
    "name": "ipython",
    "version": 3
   },
   "file_extension": ".py",
   "mimetype": "text/x-python",
   "name": "python",
   "nbconvert_exporter": "python",
   "pygments_lexer": "ipython3",
   "version": "3.10.7"
  }
 },
 "nbformat": 4,
 "nbformat_minor": 5
}

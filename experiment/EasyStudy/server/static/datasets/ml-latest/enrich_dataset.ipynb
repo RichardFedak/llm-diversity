{
 "cells": [
  {
   "cell_type": "code",
   "execution_count": 15,
   "id": "3f98822f",
   "metadata": {},
   "outputs": [],
   "source": [
    "import pandas as pd\n",
    "import os\n",
    "import json\n",
    "from imdb import Cinemagoer\n",
    "import requests\n",
    "from io import BytesIO\n",
    "from PIL import Image\n",
    "from concurrent.futures import ThreadPoolExecutor, as_completed\n"
   ]
  },
  {
   "cell_type": "code",
   "execution_count": 16,
   "id": "44a54069",
   "metadata": {},
   "outputs": [
    {
     "name": "stdout",
     "output_type": "stream",
     "text": [
      "2017\n"
     ]
    },
    {
     "name": "stderr",
     "output_type": "stream",
     "text": [
      "c:\\Users\\richa\\Desktop\\SCHOOL\\mgr\\diplomka\\experiment\\EasyStudy\\server\\static\\datasets\\ml-latest\\loader_clone.py:43: SettingWithCopyWarning: \n",
      "A value is trying to be set on a copy of a slice from a DataFrame.\n",
      "Try using .loc[row_indexer,col_indexer] = value instead\n",
      "\n",
      "See the caveats in the documentation: https://pandas.pydata.org/pandas-docs/stable/user_guide/indexing.html#returning-a-view-versus-a-copy\n",
      "  loader.ratings_df.loc[:, \"ratings_per_year\"] = loader.ratings_df['movieId'].map(loader.ratings_df['movieId'].value_counts()) / loader.ratings_df['movieId'].map(movies_df_indexed[\"age\"])\n"
     ]
    },
    {
     "name": "stdout",
     "output_type": "stream",
     "text": [
      "Ratings shape after filtering: (3536742, 5), n_users = 9612, n_items = 1525\n",
      "2017\n"
     ]
    },
    {
     "name": "stderr",
     "output_type": "stream",
     "text": [
      "c:\\Users\\richa\\Desktop\\SCHOOL\\mgr\\diplomka\\experiment\\EasyStudy\\server\\static\\datasets\\ml-latest\\loader_clone.py:43: SettingWithCopyWarning: \n",
      "A value is trying to be set on a copy of a slice from a DataFrame.\n",
      "Try using .loc[row_indexer,col_indexer] = value instead\n",
      "\n",
      "See the caveats in the documentation: https://pandas.pydata.org/pandas-docs/stable/user_guide/indexing.html#returning-a-view-versus-a-copy\n",
      "  loader.ratings_df.loc[:, \"ratings_per_year\"] = loader.ratings_df['movieId'].map(loader.ratings_df['movieId'].value_counts()) / loader.ratings_df['movieId'].map(movies_df_indexed[\"age\"])\n"
     ]
    },
    {
     "name": "stdout",
     "output_type": "stream",
     "text": [
      "Ratings shape after filtering: (8146440, 5), n_users = 34683, n_items = 9456\n"
     ]
    }
   ],
   "source": [
    "from loader_clone import create_loaders\n",
    "\n",
    "demo_loader, experiment_loader = create_loaders()"
   ]
  },
  {
   "cell_type": "markdown",
   "id": "e3ffdc1e",
   "metadata": {},
   "source": [
    "# Plots\n",
    "\n",
    "This section contains the code to enrich the dataset with plots of the movies.  \n",
    "*Note : The portion of the movie plots was provided from previous work.*"
   ]
  },
  {
   "cell_type": "code",
   "execution_count": 17,
   "id": "1fb62785",
   "metadata": {},
   "outputs": [],
   "source": [
    "# Use provided plots\n",
    "\n",
    "#https://osf.io/chbj9/files/osfstorage/675a1d242d78acf176ea0433\n",
    "with open('movie_data_plot.json', 'r', encoding='utf-8') as f:\n",
    "    plot_data = json.load(f)\n",
    "\n",
    "df = pd.read_csv('movies.csv')\n",
    "\n",
    "def get_plot(row):\n",
    "    current_plot = str(row.get('plot', '')).strip()\n",
    "    if current_plot and current_plot != \"X\":\n",
    "        return current_plot  # Keep existing plot\n",
    "\n",
    "    movie_str_id = str(row['movieId'])\n",
    "    plot_list = plot_data.get(movie_str_id, {}).get(\"plot\", [])\n",
    "    return plot_list[0] if plot_list else \"X\"\n",
    "\n",
    "df['plot'] = df.apply(get_plot, axis=1)\n",
    "\n",
    "df.to_csv('movies.csv', index=False)"
   ]
  },
  {
   "cell_type": "code",
   "execution_count": 18,
   "id": "c981e5d2",
   "metadata": {},
   "outputs": [
    {
     "name": "stdout",
     "output_type": "stream",
     "text": [
      "Total to update: 0\n"
     ]
    }
   ],
   "source": [
    "# Download the remaining plots...\n",
    "\n",
    "exp_movies = experiment_loader.movies_df\n",
    "exp_movie_ids = set(exp_movies['movieId'])\n",
    "\n",
    "movies_plot_df = pd.read_csv('movies_plot_updated.csv', dtype={'movieId': int})\n",
    "\n",
    "links_df = pd.read_csv('links.csv', dtype={'movieId': int, 'imdbId': str})\n",
    "links_df['imdbId'] = links_df['imdbId'].str.zfill(7)\n",
    "movie_to_imdb = dict(zip(links_df['movieId'], links_df['imdbId']))\n",
    "\n",
    "cg = Cinemagoer()\n",
    "\n",
    "def get_plot(movie_id):\n",
    "    imdb_id = movie_to_imdb.get(movie_id)\n",
    "    if not imdb_id:\n",
    "        return movie_id, \"X\"\n",
    "    try:\n",
    "        movie = cg.get_movie(imdb_id)\n",
    "        raw_plot = movie.get('plot', [''])[0]\n",
    "        plot = raw_plot.split(\"::\")[0].strip() or \"X\"\n",
    "        return movie_id, plot\n",
    "    except Exception as e:\n",
    "        print(f\"Failed for movieId={movie_id}: {e}\")\n",
    "        return movie_id, \"X\"\n",
    "\n",
    "to_update_mask = (movies_plot_df['movieId'].isin(exp_movie_ids)) & (movies_plot_df['plot'] == \"X\")\n",
    "to_update_indices = movies_plot_df[to_update_mask].index.tolist()\n",
    "\n",
    "batch_size = 10\n",
    "total = len(to_update_indices)\n",
    "print(f\"Total to update: {total}\")\n",
    "\n",
    "for batch_start in range(0, total, batch_size):\n",
    "    batch_indices = to_update_indices[batch_start:batch_start+batch_size]\n",
    "    print(f\"Processing batch {batch_start // batch_size + 1} with {len(batch_indices)} movies...\")\n",
    "\n",
    "    with ThreadPoolExecutor(max_workers=batch_size) as executor:\n",
    "        futures = {executor.submit(get_plot, movies_plot_df.at[idx, 'movieId']): idx for idx in batch_indices}\n",
    "\n",
    "        for future in as_completed(futures):\n",
    "            idx = futures[future]\n",
    "            try:\n",
    "                movie_id, plot = future.result()\n",
    "                movies_plot_df.at[idx, 'plot'] = plot\n",
    "                print(f\"Updated movieId={movie_id}, index: {idx} with plot: {plot}\")\n",
    "            except Exception as e:\n",
    "                print(f\"Exception while updating index {idx}: {e}\")\n",
    "\n",
    "    movies_plot_df.to_csv('movies_plot_updated.csv', index=False)\n",
    "    print(f\"Saved progress after batch {batch_start // batch_size + 1}\")\n",
    "\n",
    "# !!!! BROKEN MOVIES !!!!\n",
    "# Updated movieId=720, index: 705 with plot: X\n",
    "# Updated movieId=162864, index: 42387 with plot: X\n",
    "# manually update these movies\n",
    "\n",
    "movies_plot_df.at[705, 'plot'] = \"Wallace & Gromit, The Best of Aardman Animation\"\n",
    "movies_plot_df.at[42387, 'plot'] = \"The half-hour series aired weekly and featured stand-up comedy specials from some of the top performing comedians.\"\n",
    "movies_plot_df.to_csv('movies_plot_updated.csv', index=False)\n"
   ]
  },
  {
   "cell_type": "markdown",
   "id": "d76d8868",
   "metadata": {},
   "source": [
    "# Covers\n",
    "\n",
    "This section contains the code to enrich the dataset with covers of the movies.\n",
    "\n",
    "*Note : The portion of the movie covers was provided from previous work.* -> https://osf.io/chbj9/files/osfstorage/675a1d6d4693a99b3e87baea\n",
    "\n"
   ]
  },
  {
   "cell_type": "code",
   "execution_count": 19,
   "id": "0b99ce95",
   "metadata": {},
   "outputs": [
    {
     "name": "stdout",
     "output_type": "stream",
     "text": [
      "Total covers to download: 0\n"
     ]
    }
   ],
   "source": [
    "exp_movie_ids = set(experiment_loader.movies_df['movieId'])\n",
    "img_folder = \"img\"\n",
    "placeholder = \"no_cover.jpg\"\n",
    "links_csv = \"links.csv\"\n",
    "TARGET_WIDTH = 200\n",
    "BATCH_SIZE = 5\n",
    "\n",
    "os.makedirs(img_folder, exist_ok=True)\n",
    "ia = Cinemagoer()\n",
    "\n",
    "links_df = pd.read_csv(links_csv, dtype={'movieId': int, 'imdbId': str})\n",
    "links_df['imdbId'] = links_df['imdbId'].str.zfill(7)\n",
    "movie_to_imdb = dict(zip(links_df['movieId'], links_df['imdbId']))\n",
    "\n",
    "existing_covers = {int(os.path.splitext(f)[0]) for f in os.listdir(img_folder) if f.endswith(\".jpg\")}\n",
    "movies_to_download = [mid for mid in exp_movie_ids if mid not in existing_covers]\n",
    "\n",
    "print(f\"Total covers to download: {len(movies_to_download)}\")\n",
    "\n",
    "def get_and_save_cover(movie_id):\n",
    "    img_path = os.path.join(img_folder, f\"{movie_id}.jpg\")\n",
    "    imdb_id = movie_to_imdb.get(movie_id)\n",
    "\n",
    "    if not imdb_id:\n",
    "        return f\"{movie_id}: No IMDb ID\"\n",
    "\n",
    "    try:\n",
    "        movie = ia.get_movie(imdb_id)\n",
    "        cover_url = movie.get(\"full-size cover url\", None)\n",
    "\n",
    "        if cover_url:\n",
    "            response = requests.get(cover_url, timeout=10)\n",
    "            if response.status_code == 200:\n",
    "                img = Image.open(BytesIO(response.content))\n",
    "                w, h = img.size\n",
    "                ratio = TARGET_WIDTH / w\n",
    "                img = img.resize((TARGET_WIDTH, int(h * ratio)), Image.LANCZOS).convert(\"RGB\")\n",
    "                img.save(img_path)\n",
    "                return f\"{movie_id}: Downloaded\"\n",
    "    except Exception as e:\n",
    "        return f\"{movie_id}: Download error - {e}\"\n",
    "\n",
    "    try:\n",
    "        img = Image.open(placeholder)\n",
    "        w, h = img.size\n",
    "        ratio = TARGET_WIDTH / w\n",
    "        img = img.resize((TARGET_WIDTH, int(h * ratio)), Image.LANCZOS).convert(\"RGB\")\n",
    "        img.save(img_path)\n",
    "        return f\"{movie_id}: Used placeholder\"\n",
    "    except Exception as e:\n",
    "        return f\"{movie_id}: Placeholder failed - {e}\"\n",
    "\n",
    "for batch_start in range(0, len(movies_to_download), BATCH_SIZE):\n",
    "    batch = movies_to_download[batch_start:batch_start + BATCH_SIZE]\n",
    "    print(f\"\\nProcessing batch {batch_start // BATCH_SIZE + 1}/{(len(movies_to_download) - 1) // BATCH_SIZE + 1}\")\n",
    "\n",
    "    with ThreadPoolExecutor(max_workers=BATCH_SIZE) as executor:\n",
    "        futures = {executor.submit(get_and_save_cover, mid): mid for mid in batch}\n",
    "        for future in as_completed(futures):\n",
    "            print(future.result())"
   ]
  }
 ],
 "metadata": {
  "kernelspec": {
   "display_name": "venv",
   "language": "python",
   "name": "python3"
  },
  "language_info": {
   "codemirror_mode": {
    "name": "ipython",
    "version": 3
   },
   "file_extension": ".py",
   "mimetype": "text/x-python",
   "name": "python",
   "nbconvert_exporter": "python",
   "pygments_lexer": "ipython3",
   "version": "3.10.7"
  }
 },
 "nbformat": 4,
 "nbformat_minor": 5
}
